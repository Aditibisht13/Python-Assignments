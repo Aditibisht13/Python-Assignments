{
 "cells": [
  {
   "cell_type": "markdown",
   "id": "1a79369b",
   "metadata": {},
   "source": [
    "# Module 1 - Getting Started with Python"
   ]
  },
  {
   "cell_type": "markdown",
   "id": "feb0591b",
   "metadata": {},
   "source": [
    "1. Create a python file named Module.\n",
    "a. Inside the file, define 4 methods named – addition, subtraction, multiplication,\n",
    "and division.\n",
    "b. Each method should only accept 2 arguments and should return the result of the\n",
    "operation performed in each method. For e.g., addition() should return the sum of\n",
    "two arguments.\n",
    "c. Save the Module file in .py format.\n"
   ]
  },
  {
   "cell_type": "markdown",
   "id": "bcbe82ac",
   "metadata": {},
   "source": [
    "2. Open a new python file and import the Module.py file.\n",
    "a. Now call the 4 methods from the Module.py file, i.e., addition(), subtraction(),\n",
    "multiplication(), and division().\n"
   ]
  },
  {
   "cell_type": "code",
   "execution_count": 1,
   "id": "7729babc",
   "metadata": {},
   "outputs": [],
   "source": [
    "import Module as m"
   ]
  },
  {
   "cell_type": "code",
   "execution_count": 2,
   "id": "5e89e70d",
   "metadata": {},
   "outputs": [
    {
     "data": {
      "text/plain": [
       "7"
      ]
     },
     "execution_count": 2,
     "metadata": {},
     "output_type": "execute_result"
    }
   ],
   "source": [
    "m.addition(3,4)"
   ]
  },
  {
   "cell_type": "code",
   "execution_count": 4,
   "id": "d5b23a09",
   "metadata": {},
   "outputs": [
    {
     "data": {
      "text/plain": [
       "44"
      ]
     },
     "execution_count": 4,
     "metadata": {},
     "output_type": "execute_result"
    }
   ],
   "source": [
    "m.subtraction(90,46)"
   ]
  },
  {
   "cell_type": "code",
   "execution_count": 5,
   "id": "0619adfc",
   "metadata": {},
   "outputs": [
    {
     "data": {
      "text/plain": [
       "392"
      ]
     },
     "execution_count": 5,
     "metadata": {},
     "output_type": "execute_result"
    }
   ],
   "source": [
    "m.multiplication(8,49)"
   ]
  },
  {
   "cell_type": "code",
   "execution_count": 6,
   "id": "de6137b6",
   "metadata": {},
   "outputs": [
    {
     "data": {
      "text/plain": [
       "8.666666666666666"
      ]
     },
     "execution_count": 6,
     "metadata": {},
     "output_type": "execute_result"
    }
   ],
   "source": [
    "m.division(78,9)"
   ]
  },
  {
   "cell_type": "markdown",
   "id": "bce26815",
   "metadata": {},
   "source": [
    "3. From the Module file, import only the addition() and pass the arguments so that it can\n",
    "display the result from the method.\n"
   ]
  },
  {
   "cell_type": "code",
   "execution_count": 8,
   "id": "fefb094d",
   "metadata": {},
   "outputs": [],
   "source": [
    "from Module import addition as a"
   ]
  },
  {
   "cell_type": "code",
   "execution_count": 9,
   "id": "a210a45e",
   "metadata": {},
   "outputs": [
    {
     "data": {
      "text/plain": [
       "134"
      ]
     },
     "execution_count": 9,
     "metadata": {},
     "output_type": "execute_result"
    }
   ],
   "source": [
    "a(56,78)"
   ]
  },
  {
   "cell_type": "markdown",
   "id": "96ad08d3",
   "metadata": {},
   "source": [
    "4. From the Module file, import only the subtraction() and pass the arguments so that it can\n",
    "display the result from the method.\n"
   ]
  },
  {
   "cell_type": "code",
   "execution_count": 10,
   "id": "f1e14fb5",
   "metadata": {},
   "outputs": [],
   "source": [
    "from Module import subtraction as s"
   ]
  },
  {
   "cell_type": "code",
   "execution_count": 11,
   "id": "7d059098",
   "metadata": {},
   "outputs": [
    {
     "data": {
      "text/plain": [
       "36"
      ]
     },
     "execution_count": 11,
     "metadata": {},
     "output_type": "execute_result"
    }
   ],
   "source": [
    "s(45,9)"
   ]
  },
  {
   "cell_type": "markdown",
   "id": "77a9b77c",
   "metadata": {},
   "source": [
    "5.From the Module file, import both the multiplication() and division() and pass the\n",
    "arguments so that it can display the result from the methods.\n"
   ]
  },
  {
   "cell_type": "code",
   "execution_count": 13,
   "id": "605a8210",
   "metadata": {},
   "outputs": [],
   "source": [
    "from Module import multiplication as m,division as d"
   ]
  },
  {
   "cell_type": "code",
   "execution_count": 14,
   "id": "aa681c9d",
   "metadata": {},
   "outputs": [
    {
     "data": {
      "text/plain": [
       "624"
      ]
     },
     "execution_count": 14,
     "metadata": {},
     "output_type": "execute_result"
    }
   ],
   "source": [
    "m(8,78)"
   ]
  },
  {
   "cell_type": "code",
   "execution_count": 16,
   "id": "0fd53b02",
   "metadata": {},
   "outputs": [
    {
     "data": {
      "text/plain": [
       "17.0"
      ]
     },
     "execution_count": 16,
     "metadata": {},
     "output_type": "execute_result"
    }
   ],
   "source": [
    "d(34,2)"
   ]
  },
  {
   "cell_type": "markdown",
   "id": "e30a4ed1",
   "metadata": {},
   "source": [
    "6.Create a python if-else program to check if the given numbers are greater or not,\n",
    "also\n",
    "check whether the given number is an armstrong number or not, and \n",
    "check whether the given number is a prime number or not. \n",
    "Make use of python if-else, and elif statements\n",
    "for the same.\n"
   ]
  },
  {
   "cell_type": "code",
   "execution_count": 21,
   "id": "642906c0",
   "metadata": {},
   "outputs": [
    {
     "name": "stdout",
     "output_type": "stream",
     "text": [
      "enter 1st number: 56\n",
      "enter 2nd number: 90\n",
      "b is greater than a:\n"
     ]
    }
   ],
   "source": [
    "a=input('enter 1st number: ')\n",
    "b=input('enter 2nd number: ')\n",
    "if a>b:\n",
    "    print('a is greater than b:')\n",
    "else:\n",
    "    print ('b is greater than a:')\n"
   ]
  },
  {
   "cell_type": "code",
   "execution_count": 22,
   "id": "4f37f727",
   "metadata": {},
   "outputs": [
    {
     "name": "stdout",
     "output_type": "stream",
     "text": [
      "Enter the first number: 153\n",
      "its amstrong number\n"
     ]
    }
   ],
   "source": [
    "#amstrong number\n",
    "num = int(input(\"Enter the first number: \"))\n",
    "sum=0\n",
    "temp=num\n",
    "while(temp>0):\n",
    "    digit=num%10\n",
    "    sum+= digit**3 \n",
    "    temp//=10\n",
    "if sum==num:\n",
    "    print('its amstrong number')\n",
    "else:\n",
    "    print('its amstrong number')"
   ]
  },
  {
   "cell_type": "code",
   "execution_count": 24,
   "id": "62ed7d36",
   "metadata": {},
   "outputs": [
    {
     "name": "stdout",
     "output_type": "stream",
     "text": [
      "Enter a number: 73\n",
      "73 is a prime number\n"
     ]
    }
   ],
   "source": [
    "#prime number\n",
    "num = int(input(\"Enter a number: \"))\n",
    "\n",
    "if num == 1:\n",
    "    print(num, \"is not a prime number\")\n",
    "elif num > 1:\n",
    "    for i in range(2, num):\n",
    "        if (num % i) == 0:\n",
    "            \n",
    "            print(num, \"is not a prime number\")\n",
    "            break\n",
    "    else:\n",
    "        print(num, \"is a prime number\")"
   ]
  },
  {
   "cell_type": "markdown",
   "id": "1fc6a4ce",
   "metadata": {},
   "source": [
    "7.Create a calculator program for addition, subtraction, multiplication and floor division.\n",
    "Take the inputs from the user, and based on the choice of operation, return the results."
   ]
  },
  {
   "cell_type": "code",
   "execution_count": 33,
   "id": "d5bd1bbc",
   "metadata": {},
   "outputs": [
    {
     "name": "stdout",
     "output_type": "stream",
     "text": [
      "enter 1st number67\n",
      "enter 2nd number78\n",
      "function to be performed chose add, sub, multi or div:multi\n",
      "5226\n"
     ]
    }
   ],
   "source": [
    "a=int(input('enter 1st number'))\n",
    "b=int(input('enter 2nd number'))\n",
    "c= input('function to be performed chose add, sub, multi or div:')\n",
    "if c=='add':\n",
    "    print(a+b)\n",
    "elif c=='sub':\n",
    "    print(a-b)\n",
    "elif c=='multi':\n",
    "    print(a*b)\n",
    "elif c=='div':\n",
    "    print(a//b)\n",
    "else:\n",
    "    print('wrong choice')\n"
   ]
  },
  {
   "cell_type": "markdown",
   "id": "50ff387c",
   "metadata": {},
   "source": [
    "8. Create a fibonacci sequence using python if-else statements."
   ]
  },
  {
   "cell_type": "code",
   "execution_count": 40,
   "id": "db514970",
   "metadata": {},
   "outputs": [
    {
     "name": "stdout",
     "output_type": "stream",
     "text": [
      "How many terms?7\n",
      "Fibonacci sequence:\n",
      "0\n",
      "1\n",
      "1\n",
      "2\n",
      "3\n",
      "5\n",
      "8\n"
     ]
    }
   ],
   "source": [
    "n=int(input(\"How many terms?\"))\n",
    "n1=0\n",
    "n2=1\n",
    "count=0\n",
    "if n<=0:\n",
    "    print(\"enter positive integer\")\n",
    "elif n==1:\n",
    "    print(n1)\n",
    "else:\n",
    "    print(\"Fibonacci sequence:\")\n",
    "    while count<n:\n",
    "        print(n1)\n",
    "        nth=n1+n2\n",
    "        #update values\n",
    "        n1=n2\n",
    "        n2=nth\n",
    "        count+=1"
   ]
  },
  {
   "cell_type": "markdown",
   "id": "ef888346",
   "metadata": {},
   "source": [
    "9.Create a nested dictionary with values as a nested list for each key in the dictionary.\n"
   ]
  },
  {
   "cell_type": "code",
   "execution_count": 41,
   "id": "c017f9b5",
   "metadata": {},
   "outputs": [],
   "source": [
    "a={'key1':{'key1_1':[1,2,3,7]},'key2':[4,5,6],'key3':[2,5,7,7]}"
   ]
  },
  {
   "cell_type": "code",
   "execution_count": 42,
   "id": "bb4b289e",
   "metadata": {},
   "outputs": [
    {
     "data": {
      "text/plain": [
       "{'key1': {'key1_1': [1, 2, 3, 7]}, 'key2': [4, 5, 6], 'key3': [2, 5, 7, 7]}"
      ]
     },
     "execution_count": 42,
     "metadata": {},
     "output_type": "execute_result"
    }
   ],
   "source": [
    "a"
   ]
  },
  {
   "cell_type": "markdown",
   "id": "7099400f",
   "metadata": {},
   "source": [
    "10. Create two sets and perform the following:\n",
    "a. Union of the two sets\n",
    "b. Intersection of the two sets\n"
   ]
  },
  {
   "cell_type": "code",
   "execution_count": 43,
   "id": "3dde52f6",
   "metadata": {},
   "outputs": [],
   "source": [
    "a={2,4,5,6,6,7,8,9,0}\n",
    "b={0,2,3,4,5,5,6,8,9,23}\n"
   ]
  },
  {
   "cell_type": "code",
   "execution_count": 45,
   "id": "d97e9736",
   "metadata": {},
   "outputs": [
    {
     "data": {
      "text/plain": [
       "{0, 2, 3, 4, 5, 6, 7, 8, 9, 23}"
      ]
     },
     "execution_count": 45,
     "metadata": {},
     "output_type": "execute_result"
    }
   ],
   "source": [
    "a.union(b)"
   ]
  },
  {
   "cell_type": "code",
   "execution_count": 46,
   "id": "d13faeb0",
   "metadata": {},
   "outputs": [
    {
     "data": {
      "text/plain": [
       "{0, 2, 3, 4, 5, 6, 7, 8, 9, 23}"
      ]
     },
     "execution_count": 46,
     "metadata": {},
     "output_type": "execute_result"
    }
   ],
   "source": [
    "a|b"
   ]
  },
  {
   "cell_type": "code",
   "execution_count": 47,
   "id": "0168a4bc",
   "metadata": {},
   "outputs": [
    {
     "data": {
      "text/plain": [
       "{0, 2, 4, 5, 6, 8, 9}"
      ]
     },
     "execution_count": 47,
     "metadata": {},
     "output_type": "execute_result"
    }
   ],
   "source": [
    "a.intersection(b)"
   ]
  },
  {
   "cell_type": "code",
   "execution_count": 48,
   "id": "6bba1f3d",
   "metadata": {},
   "outputs": [
    {
     "data": {
      "text/plain": [
       "{0, 2, 4, 5, 6, 8, 9}"
      ]
     },
     "execution_count": 48,
     "metadata": {},
     "output_type": "execute_result"
    }
   ],
   "source": [
    "a&b"
   ]
  },
  {
   "cell_type": "markdown",
   "id": "eedfdae7",
   "metadata": {},
   "source": [
    "11. Create a nested tuple from the dictionary, with each item in the tuple as a key value pair\n",
    "from the dictionary."
   ]
  },
  {
   "cell_type": "code",
   "execution_count": 49,
   "id": "b8ed76a9",
   "metadata": {},
   "outputs": [],
   "source": [
    "a={'key1':1,'key2':2,'key3':3,4:4}"
   ]
  },
  {
   "cell_type": "code",
   "execution_count": 50,
   "id": "59cf9d42",
   "metadata": {},
   "outputs": [
    {
     "data": {
      "text/plain": [
       "(('key1', 1), ('key2', 2), ('key3', 3), (4, 4))"
      ]
     },
     "execution_count": 50,
     "metadata": {},
     "output_type": "execute_result"
    }
   ],
   "source": [
    "tuple(a.items())"
   ]
  },
  {
   "cell_type": "markdown",
   "id": "1053a198",
   "metadata": {},
   "source": [
    "12. Create a list of the first 50 even natural numbers, and perform the following operations.\n",
    "c. Count the number of elements in the list.\n",
    "d. Reverse the sequence of the list.\n",
    "e. Sort the list in ascending and descending order.\n",
    "f. Get the index value for the element 44, and update the element with the number\n",
    "100.\n",
    "g. Return a copy of the list, with the resulting list containing the square of each\n",
    "element.\n"
   ]
  },
  {
   "cell_type": "code",
   "execution_count": 51,
   "id": "e5a7a7b0",
   "metadata": {},
   "outputs": [
    {
     "name": "stdout",
     "output_type": "stream",
     "text": [
      "[2, 4, 6, 8, 10, 12, 14, 16, 18, 20, 22, 24, 26, 28, 30, 32, 34, 36, 38, 40, 42, 44, 46, 48, 50, 52, 54, 56, 58, 60, 62, 64, 66, 68, 70, 72, 74, 76, 78, 80, 82, 84, 86, 88, 90, 92, 94, 96, 98, 100]\n"
     ]
    }
   ],
   "source": [
    "even_list = []\n",
    "for i in range(1,101):\n",
    "    if i%2==0:\n",
    "        even_list.append(i)\n",
    "        \n",
    "print(even_list)"
   ]
  },
  {
   "cell_type": "code",
   "execution_count": 52,
   "id": "94066ce7",
   "metadata": {},
   "outputs": [
    {
     "data": {
      "text/plain": [
       "50"
      ]
     },
     "execution_count": 52,
     "metadata": {},
     "output_type": "execute_result"
    }
   ],
   "source": [
    "#number of elements\n",
    "len(even_list)"
   ]
  },
  {
   "cell_type": "code",
   "execution_count": 53,
   "id": "bc0669df",
   "metadata": {},
   "outputs": [
    {
     "data": {
      "text/plain": [
       "[100,\n",
       " 98,\n",
       " 96,\n",
       " 94,\n",
       " 92,\n",
       " 90,\n",
       " 88,\n",
       " 86,\n",
       " 84,\n",
       " 82,\n",
       " 80,\n",
       " 78,\n",
       " 76,\n",
       " 74,\n",
       " 72,\n",
       " 70,\n",
       " 68,\n",
       " 66,\n",
       " 64,\n",
       " 62,\n",
       " 60,\n",
       " 58,\n",
       " 56,\n",
       " 54,\n",
       " 52,\n",
       " 50,\n",
       " 48,\n",
       " 46,\n",
       " 44,\n",
       " 42,\n",
       " 40,\n",
       " 38,\n",
       " 36,\n",
       " 34,\n",
       " 32,\n",
       " 30,\n",
       " 28,\n",
       " 26,\n",
       " 24,\n",
       " 22,\n",
       " 20,\n",
       " 18,\n",
       " 16,\n",
       " 14,\n",
       " 12,\n",
       " 10,\n",
       " 8,\n",
       " 6,\n",
       " 4,\n",
       " 2]"
      ]
     },
     "execution_count": 53,
     "metadata": {},
     "output_type": "execute_result"
    }
   ],
   "source": [
    "#reverse the sequence of list\n",
    "even_list[::-1]"
   ]
  },
  {
   "cell_type": "code",
   "execution_count": 54,
   "id": "a3712545",
   "metadata": {},
   "outputs": [],
   "source": [
    "#sort accending\n",
    "even_list.sort()"
   ]
  },
  {
   "cell_type": "code",
   "execution_count": 55,
   "id": "a467f52e",
   "metadata": {},
   "outputs": [
    {
     "data": {
      "text/plain": [
       "[2,\n",
       " 4,\n",
       " 6,\n",
       " 8,\n",
       " 10,\n",
       " 12,\n",
       " 14,\n",
       " 16,\n",
       " 18,\n",
       " 20,\n",
       " 22,\n",
       " 24,\n",
       " 26,\n",
       " 28,\n",
       " 30,\n",
       " 32,\n",
       " 34,\n",
       " 36,\n",
       " 38,\n",
       " 40,\n",
       " 42,\n",
       " 44,\n",
       " 46,\n",
       " 48,\n",
       " 50,\n",
       " 52,\n",
       " 54,\n",
       " 56,\n",
       " 58,\n",
       " 60,\n",
       " 62,\n",
       " 64,\n",
       " 66,\n",
       " 68,\n",
       " 70,\n",
       " 72,\n",
       " 74,\n",
       " 76,\n",
       " 78,\n",
       " 80,\n",
       " 82,\n",
       " 84,\n",
       " 86,\n",
       " 88,\n",
       " 90,\n",
       " 92,\n",
       " 94,\n",
       " 96,\n",
       " 98,\n",
       " 100]"
      ]
     },
     "execution_count": 55,
     "metadata": {},
     "output_type": "execute_result"
    }
   ],
   "source": [
    "even_list"
   ]
  },
  {
   "cell_type": "code",
   "execution_count": 56,
   "id": "e7f758a3",
   "metadata": {},
   "outputs": [
    {
     "name": "stdout",
     "output_type": "stream",
     "text": [
      "[100, 98, 96, 94, 92, 90, 88, 86, 84, 82, 80, 78, 76, 74, 72, 70, 68, 66, 64, 62, 60, 58, 56, 54, 52, 50, 48, 46, 44, 42, 40, 38, 36, 34, 32, 30, 28, 26, 24, 22, 20, 18, 16, 14, 12, 10, 8, 6, 4, 2]\n"
     ]
    }
   ],
   "source": [
    "#sort decendinge\n",
    "even_list.sort(reverse=True)\n",
    "print(even_list)"
   ]
  },
  {
   "cell_type": "code",
   "execution_count": 58,
   "id": "eb19770b",
   "metadata": {},
   "outputs": [
    {
     "data": {
      "text/plain": [
       "28"
      ]
     },
     "execution_count": 58,
     "metadata": {},
     "output_type": "execute_result"
    }
   ],
   "source": [
    "#index value of 44\n",
    "even_list.index(44)"
   ]
  },
  {
   "cell_type": "code",
   "execution_count": 59,
   "id": "448c9ea3",
   "metadata": {},
   "outputs": [
    {
     "name": "stdout",
     "output_type": "stream",
     "text": [
      "[100, 98, 96, 94, 92, 90, 88, 86, 84, 82, 80, 78, 76, 74, 72, 70, 68, 66, 64, 62, 60, 58, 56, 54, 52, 50, 48, 46, 100, 42, 40, 38, 36, 34, 32, 30, 28, 26, 24, 22, 20, 18, 16, 14, 12, 10, 8, 6, 4, 2]\n"
     ]
    }
   ],
   "source": [
    "#replacing 44 with 100\n",
    "even_list[28]=100\n",
    "print(even_list)"
   ]
  },
  {
   "cell_type": "code",
   "execution_count": 60,
   "id": "0c1d9107",
   "metadata": {},
   "outputs": [
    {
     "data": {
      "text/plain": [
       "[10000,\n",
       " 9604,\n",
       " 9216,\n",
       " 8836,\n",
       " 8464,\n",
       " 8100,\n",
       " 7744,\n",
       " 7396,\n",
       " 7056,\n",
       " 6724,\n",
       " 6400,\n",
       " 6084,\n",
       " 5776,\n",
       " 5476,\n",
       " 5184,\n",
       " 4900,\n",
       " 4624,\n",
       " 4356,\n",
       " 4096,\n",
       " 3844,\n",
       " 3600,\n",
       " 3364,\n",
       " 3136,\n",
       " 2916,\n",
       " 2704,\n",
       " 2500,\n",
       " 2304,\n",
       " 2116,\n",
       " 10000,\n",
       " 1764,\n",
       " 1600,\n",
       " 1444,\n",
       " 1296,\n",
       " 1156,\n",
       " 1024,\n",
       " 900,\n",
       " 784,\n",
       " 676,\n",
       " 576,\n",
       " 484,\n",
       " 400,\n",
       " 324,\n",
       " 256,\n",
       " 196,\n",
       " 144,\n",
       " 100,\n",
       " 64,\n",
       " 36,\n",
       " 16,\n",
       " 4]"
      ]
     },
     "execution_count": 60,
     "metadata": {},
     "output_type": "execute_result"
    }
   ],
   "source": [
    "#square of each element in even_list\n",
    "[i**2 for i in even_list]"
   ]
  },
  {
   "cell_type": "markdown",
   "id": "1ea406cb",
   "metadata": {},
   "source": [
    "13. Create a nested dictionary and perform the following operations.\n",
    "h. Return a list with the key value pairs from the dictionary.\n",
    "i. Return a list with just the keys from the dictionary.\n",
    "j. Remove the first and last key value from the dictionary."
   ]
  },
  {
   "cell_type": "code",
   "execution_count": 61,
   "id": "13d3b53a",
   "metadata": {},
   "outputs": [],
   "source": [
    "a={'ky1':1,'ky2':2,'ky3':3,'ky4':4,'ky5':5,'ky6':6}"
   ]
  },
  {
   "cell_type": "code",
   "execution_count": 66,
   "id": "8a542d04",
   "metadata": {},
   "outputs": [
    {
     "data": {
      "text/plain": [
       "[('ky1', 1), ('ky2', 2), ('ky3', 3), ('ky4', 4), ('ky5', 5), ('ky6', 6)]"
      ]
     },
     "execution_count": 66,
     "metadata": {},
     "output_type": "execute_result"
    }
   ],
   "source": [
    "#Return a list with the key value pairs from the dictionary\n",
    "list(a.items())"
   ]
  },
  {
   "cell_type": "code",
   "execution_count": 68,
   "id": "54e8bcef",
   "metadata": {},
   "outputs": [
    {
     "data": {
      "text/plain": [
       "['ky1', 'ky2', 'ky3', 'ky4', 'ky5', 'ky6']"
      ]
     },
     "execution_count": 68,
     "metadata": {},
     "output_type": "execute_result"
    }
   ],
   "source": [
    "#Return a list with just the keys from the dictionary\n",
    "list(a.keys())"
   ]
  },
  {
   "cell_type": "code",
   "execution_count": 70,
   "id": "8cb33d01",
   "metadata": {},
   "outputs": [
    {
     "data": {
      "text/plain": [
       "{'ky2': 2, 'ky3': 3, 'ky4': 4, 'ky5': 5}"
      ]
     },
     "execution_count": 70,
     "metadata": {},
     "output_type": "execute_result"
    }
   ],
   "source": [
    "#Remove the first and last key value from the dictionary\n",
    "a.pop('ky1'and 'ky6')\n",
    "a"
   ]
  },
  {
   "cell_type": "markdown",
   "id": "7704dec4",
   "metadata": {},
   "source": [
    "14. For the given strings A = “Python Programming Language”, B = “Best in the World” , perform\n",
    "the following operations.\n",
    "l. Using indexing operations, get the text “gram” from the string A.\n",
    "m. Using indexing operations, get the text “World” from the string B.\n",
    "n. Change the letters in both strings to Uppercase letters.\n",
    "o. Concatenate the two strings."
   ]
  },
  {
   "cell_type": "code",
   "execution_count": 74,
   "id": "0f8fbedb",
   "metadata": {},
   "outputs": [
    {
     "data": {
      "text/plain": [
       "'gram'"
      ]
     },
     "execution_count": 74,
     "metadata": {},
     "output_type": "execute_result"
    }
   ],
   "source": [
    "#Using indexing operations, get the text “gram” from the string A.\n",
    "A = \"Python Programming Language\"\n",
    "B = \"Best in the World\"\n",
    "A[10:14]"
   ]
  },
  {
   "cell_type": "code",
   "execution_count": 75,
   "id": "335b2844",
   "metadata": {},
   "outputs": [
    {
     "data": {
      "text/plain": [
       "' World'"
      ]
     },
     "execution_count": 75,
     "metadata": {},
     "output_type": "execute_result"
    }
   ],
   "source": [
    "#Using indexing operations, get the text “World” from the string B#\n",
    "B[-6:]"
   ]
  },
  {
   "cell_type": "code",
   "execution_count": 80,
   "id": "ece5e3d3",
   "metadata": {},
   "outputs": [
    {
     "data": {
      "text/plain": [
       "'PYTHON PROGRAMMING LANGUAGE'"
      ]
     },
     "execution_count": 80,
     "metadata": {},
     "output_type": "execute_result"
    }
   ],
   "source": [
    "#changing into uppercase\n",
    "A.upper()\n"
   ]
  },
  {
   "cell_type": "code",
   "execution_count": 79,
   "id": "7311f872",
   "metadata": {},
   "outputs": [
    {
     "data": {
      "text/plain": [
       "'BEST IN THE WORLD'"
      ]
     },
     "execution_count": 79,
     "metadata": {},
     "output_type": "execute_result"
    }
   ],
   "source": [
    "B.upper()"
   ]
  },
  {
   "cell_type": "code",
   "execution_count": 81,
   "id": "a479b842",
   "metadata": {},
   "outputs": [
    {
     "data": {
      "text/plain": [
       "'Python Programming Language Best in the World'"
      ]
     },
     "execution_count": 81,
     "metadata": {},
     "output_type": "execute_result"
    }
   ],
   "source": [
    "#Concatenate the two strings.\n",
    "A +\" \"+B"
   ]
  },
  {
   "cell_type": "markdown",
   "id": "28d345c2",
   "metadata": {},
   "source": [
    "Create a list with n numbers, and using negative indexing return the list starting from the 5th\n",
    "index to the n-2th index"
   ]
  },
  {
   "cell_type": "code",
   "execution_count": 85,
   "id": "b55c37bc",
   "metadata": {},
   "outputs": [
    {
     "name": "stdout",
     "output_type": "stream",
     "text": [
      "How many numbers you want to input?10\n",
      "enter the number:1\n",
      "enter the number:6\n",
      "enter the number:4\n",
      "enter the number:7\n",
      "enter the number:3\n",
      "enter the number:7\n",
      "enter the number:3\n",
      "enter the number:3\n",
      "enter the number:2\n",
      "enter the number:0\n",
      "[1, 6, 4, 7, 3, 7, 3, 3, 2, 0]\n"
     ]
    }
   ],
   "source": [
    "_list=[]\n",
    "n=int(input(\"How many numbers you want to input?\"))\n",
    "for i in range(n):\n",
    "    a=int(input(\"enter the number:\"))\n",
    "    _list.append(a)\n",
    "print(_list)"
   ]
  },
  {
   "cell_type": "code",
   "execution_count": 86,
   "id": "bdcf2f78",
   "metadata": {},
   "outputs": [
    {
     "data": {
      "text/plain": [
       "[3, 7, 3]"
      ]
     },
     "execution_count": 86,
     "metadata": {},
     "output_type": "execute_result"
    }
   ],
   "source": [
    "_list[(5-n-1):(n-3)]"
   ]
  },
  {
   "cell_type": "markdown",
   "id": "87c78ce0",
   "metadata": {},
   "source": [
    "16. Using range(), create a list with numbers ranging from 5-100, and the number of elements\n",
    "should be exactly 19."
   ]
  },
  {
   "cell_type": "code",
   "execution_count": 87,
   "id": "d9b11d56",
   "metadata": {},
   "outputs": [
    {
     "name": "stdout",
     "output_type": "stream",
     "text": [
      "[5, 10, 15, 20, 25, 30, 35, 40, 45, 50, 55, 60, 65, 70, 75, 80, 85, 90, 95]\n"
     ]
    }
   ],
   "source": [
    "ls = [x for x in range(5,100,5) if x%5==0]\n",
    "print(ls)"
   ]
  },
  {
   "cell_type": "code",
   "execution_count": 88,
   "id": "58a169f1",
   "metadata": {},
   "outputs": [
    {
     "data": {
      "text/plain": [
       "19"
      ]
     },
     "execution_count": 88,
     "metadata": {},
     "output_type": "execute_result"
    }
   ],
   "source": [
    "len(ls)"
   ]
  },
  {
   "cell_type": "code",
   "execution_count": null,
   "id": "197592b9",
   "metadata": {},
   "outputs": [],
   "source": []
  }
 ],
 "metadata": {
  "kernelspec": {
   "display_name": "Python 3 (ipykernel)",
   "language": "python",
   "name": "python3"
  },
  "language_info": {
   "codemirror_mode": {
    "name": "ipython",
    "version": 3
   },
   "file_extension": ".py",
   "mimetype": "text/x-python",
   "name": "python",
   "nbconvert_exporter": "python",
   "pygments_lexer": "ipython3",
   "version": "3.10.9"
  }
 },
 "nbformat": 4,
 "nbformat_minor": 5
}
