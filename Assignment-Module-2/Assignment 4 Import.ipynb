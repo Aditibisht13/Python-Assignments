{
 "cells": [
  {
   "cell_type": "markdown",
   "id": "1a79369b",
   "metadata": {},
   "source": [
    "# Assignment 4 Import"
   ]
  },
  {
   "cell_type": "markdown",
   "id": "feb0591b",
   "metadata": {},
   "source": [
    "1. Create a python file named Module.\n",
    "a. Inside the file, define 4 methods named – addition, subtraction, multiplication,\n",
    "and division.\n",
    "b. Each method should only accept 2 arguments and should return the result of the\n",
    "operation performed in each method. For e.g., addition() should return the sum of\n",
    "two arguments.\n",
    "c. Save the Module file in .py format.\n"
   ]
  },
  {
   "cell_type": "markdown",
   "id": "bcbe82ac",
   "metadata": {},
   "source": [
    "2. Open a new python file and import the Module.py file.\n",
    "a. Now call the 4 methods from the Module.py file, i.e., addition(), subtraction(),\n",
    "multiplication(), and division().\n"
   ]
  },
  {
   "cell_type": "code",
   "execution_count": 1,
   "id": "7729babc",
   "metadata": {},
   "outputs": [],
   "source": [
    "import Module as m"
   ]
  },
  {
   "cell_type": "code",
   "execution_count": 2,
   "id": "5e89e70d",
   "metadata": {},
   "outputs": [
    {
     "data": {
      "text/plain": [
       "7"
      ]
     },
     "execution_count": 2,
     "metadata": {},
     "output_type": "execute_result"
    }
   ],
   "source": [
    "m.addition(3,4)"
   ]
  },
  {
   "cell_type": "code",
   "execution_count": 4,
   "id": "d5b23a09",
   "metadata": {},
   "outputs": [
    {
     "data": {
      "text/plain": [
       "44"
      ]
     },
     "execution_count": 4,
     "metadata": {},
     "output_type": "execute_result"
    }
   ],
   "source": [
    "m.subtraction(90,46)"
   ]
  },
  {
   "cell_type": "code",
   "execution_count": 5,
   "id": "0619adfc",
   "metadata": {},
   "outputs": [
    {
     "data": {
      "text/plain": [
       "392"
      ]
     },
     "execution_count": 5,
     "metadata": {},
     "output_type": "execute_result"
    }
   ],
   "source": [
    "m.multiplication(8,49)"
   ]
  },
  {
   "cell_type": "code",
   "execution_count": 6,
   "id": "de6137b6",
   "metadata": {},
   "outputs": [
    {
     "data": {
      "text/plain": [
       "8.666666666666666"
      ]
     },
     "execution_count": 6,
     "metadata": {},
     "output_type": "execute_result"
    }
   ],
   "source": [
    "m.division(78,9)"
   ]
  },
  {
   "cell_type": "markdown",
   "id": "bce26815",
   "metadata": {},
   "source": [
    "3. From the Module file, import only the addition() and pass the arguments so that it can\n",
    "display the result from the method.\n"
   ]
  },
  {
   "cell_type": "code",
   "execution_count": 8,
   "id": "fefb094d",
   "metadata": {},
   "outputs": [],
   "source": [
    "from Module import addition as a"
   ]
  },
  {
   "cell_type": "code",
   "execution_count": 9,
   "id": "a210a45e",
   "metadata": {},
   "outputs": [
    {
     "data": {
      "text/plain": [
       "134"
      ]
     },
     "execution_count": 9,
     "metadata": {},
     "output_type": "execute_result"
    }
   ],
   "source": [
    "a(56,78)"
   ]
  },
  {
   "cell_type": "markdown",
   "id": "96ad08d3",
   "metadata": {},
   "source": [
    "4. From the Module file, import only the subtraction() and pass the arguments so that it can\n",
    "display the result from the method.\n"
   ]
  },
  {
   "cell_type": "code",
   "execution_count": 10,
   "id": "f1e14fb5",
   "metadata": {},
   "outputs": [],
   "source": [
    "from Module import subtraction as s"
   ]
  },
  {
   "cell_type": "code",
   "execution_count": 11,
   "id": "7d059098",
   "metadata": {},
   "outputs": [
    {
     "data": {
      "text/plain": [
       "36"
      ]
     },
     "execution_count": 11,
     "metadata": {},
     "output_type": "execute_result"
    }
   ],
   "source": [
    "s(45,9)"
   ]
  },
  {
   "cell_type": "markdown",
   "id": "77a9b77c",
   "metadata": {},
   "source": [
    "5.From the Module file, import both the multiplication() and division() and pass the\n",
    "arguments so that it can display the result from the methods.\n"
   ]
  },
  {
   "cell_type": "code",
   "execution_count": 13,
   "id": "605a8210",
   "metadata": {},
   "outputs": [],
   "source": [
    "from Module import multiplication as m,division as d"
   ]
  },
  {
   "cell_type": "code",
   "execution_count": 14,
   "id": "aa681c9d",
   "metadata": {},
   "outputs": [
    {
     "data": {
      "text/plain": [
       "624"
      ]
     },
     "execution_count": 14,
     "metadata": {},
     "output_type": "execute_result"
    }
   ],
   "source": [
    "m(8,78)"
   ]
  },
  {
   "cell_type": "code",
   "execution_count": 16,
   "id": "0fd53b02",
   "metadata": {},
   "outputs": [
    {
     "data": {
      "text/plain": [
       "17.0"
      ]
     },
     "execution_count": 16,
     "metadata": {},
     "output_type": "execute_result"
    }
   ],
   "source": [
    "d(34,2)"
   ]
  }
 ],
 "metadata": {
  "kernelspec": {
   "display_name": "Python 3 (ipykernel)",
   "language": "python",
   "name": "python3"
  },
  "language_info": {
   "codemirror_mode": {
    "name": "ipython",
    "version": 3
   },
   "file_extension": ".py",
   "mimetype": "text/x-python",
   "name": "python",
   "nbconvert_exporter": "python",
   "pygments_lexer": "ipython3",
   "version": "3.10.9"
  }
 },
 "nbformat": 4,
 "nbformat_minor": 5
}
