{
 "cells": [
  {
   "cell_type": "markdown",
   "id": "303902a9",
   "metadata": {},
   "source": [
    "# Assignment 5 Inheritance"
   ]
  },
  {
   "cell_type": "markdown",
   "id": "630753b8",
   "metadata": {},
   "source": [
    "1. Create a class named parent_Class and inside the class, initialize a global variable num as 10.\n",
    "a. Create another class named child_Class and this class should be inherited from the\n",
    "parent class.\n",
    "b. Now create an object for the child_Class and with the help of child_Class object, display\n",
    "the value of ‘num’."
   ]
  },
  {
   "cell_type": "code",
   "execution_count": 53,
   "id": "8192d71b",
   "metadata": {},
   "outputs": [],
   "source": [
    "class parent_Class:\n",
    "    global num\n",
    "    num=10\n",
    "class child_Class(parent_Class):\n",
    "    def numdisp():\n",
    "        print(num)\n",
    "\n",
    "    \n",
    "\n"
   ]
  },
  {
   "cell_type": "code",
   "execution_count": 54,
   "id": "dc899ece",
   "metadata": {},
   "outputs": [
    {
     "name": "stdout",
     "output_type": "stream",
     "text": [
      "10\n"
     ]
    }
   ],
   "source": [
    "obj1=child_Class\n",
    "obj1.numdisp()\n"
   ]
  },
  {
   "cell_type": "markdown",
   "id": "f6240291",
   "metadata": {},
   "source": [
    "2. Create three class named A, B, and C.\n",
    "a. Inside the A class, create a constructor. Inside the constructor, initilize 2 global variablesname and age.\n",
    "After initializing the global variables inside the constructor, now create a funtion named\n",
    "‘details’ and that function should return the ‘name’ variable.\n",
    "c. Inside the B class, create a constructor. Inside the contructor, initialize 2 global veriablesname and id.\n",
    "d. After initializing the global variables inside the constructor, now create a funtion named\n",
    "‘details’ and that function should return the ‘name’ variable.\n",
    "e. The C class should inherit from class A, and B. Inside the class C, create a constructor,\n",
    "and inside the constructor, call the contructor of class A.\n",
    "f. Now, create a method inside the class C, as get_details, and this fucntion should return\n",
    "the vaue of name.\n",
    "g. Atlast, create an object of class C, and with the help of the object, call the get_details().\n",
    "    "
   ]
  },
  {
   "cell_type": "code",
   "execution_count": 4,
   "id": "90a6612a",
   "metadata": {},
   "outputs": [],
   "source": [
    "class A:\n",
    "    def __init__(self, name, age):\n",
    "        self.name = name\n",
    "        self.age = age\n",
    "\n",
    "    def details(self):\n",
    "        return self.name\n",
    "\n",
    "\n",
    "class B:\n",
    "    def __init__(self, name, id):\n",
    "        self.name = name\n",
    "        self.id = id\n",
    "\n",
    "    def details(self):\n",
    "        return self.name\n",
    "\n",
    "\n",
    "class C(A, B):\n",
    "    def __init__(self, name, age, id):\n",
    "        super().__init__(name, age)\n",
    "        self.id = id\n",
    "\n",
    "    def get_details(self):\n",
    "        return self.name\n",
    "\n",
    "\n"
   ]
  },
  {
   "cell_type": "code",
   "execution_count": 6,
   "id": "c7df722d",
   "metadata": {},
   "outputs": [
    {
     "name": "stdout",
     "output_type": "stream",
     "text": [
      "Helen Smith\n"
     ]
    }
   ],
   "source": [
    "ob=C('Helen Smith',27,10034)\n",
    "print(ob.get_details())"
   ]
  },
  {
   "cell_type": "markdown",
   "id": "b4b98237",
   "metadata": {},
   "source": [
    "3. Create a class named ‘Sub1’, inside the class, generate a user defined function named ‘first’\n",
    "and inside the function, pass the following statement in the print()- ‘This is the first function\n",
    "from Sub 1 class’."
   ]
  },
  {
   "cell_type": "code",
   "execution_count": 60,
   "id": "2770f188",
   "metadata": {},
   "outputs": [],
   "source": [
    "class Sub1:\n",
    "    def first():\n",
    "        print('This is the first function from Sub 1 class')"
   ]
  },
  {
   "cell_type": "markdown",
   "id": "0e68a785",
   "metadata": {},
   "source": [
    "a. Now create another class named ‘Sub2’, and inside the class, create a function\n",
    "named ‘second’, and pass the following message in the print()- ‘This is the\n",
    "second function from the Sub 2 class’.\n"
   ]
  },
  {
   "cell_type": "code",
   "execution_count": 61,
   "id": "7b0748ff",
   "metadata": {},
   "outputs": [],
   "source": [
    "class Sub2:\n",
    "    def second():\n",
    "        print('This is the second function from the Sub 2 class')"
   ]
  },
  {
   "cell_type": "markdown",
   "id": "842e709c",
   "metadata": {},
   "source": [
    "b. After that, create another class named ‘Super’ and inside that class, create a\n",
    "method named ‘final’, and pass the below message in the print()- ‘This is the\n",
    "final method from the super class’."
   ]
  },
  {
   "cell_type": "code",
   "execution_count": 64,
   "id": "3af95560",
   "metadata": {},
   "outputs": [],
   "source": [
    "class Super(Sub1,Sub2):\n",
    "    def final():\n",
    "        print('This is the final method from the super class')\n",
    "        "
   ]
  },
  {
   "cell_type": "markdown",
   "id": "235baf1e",
   "metadata": {},
   "source": [
    "c. Now, create an object for the Super class and call all the 3 user defined\n",
    "methods, i.e., first(), second(), and final().\n"
   ]
  },
  {
   "cell_type": "code",
   "execution_count": 66,
   "id": "512d3cad",
   "metadata": {},
   "outputs": [],
   "source": [
    "obj=Super"
   ]
  },
  {
   "cell_type": "code",
   "execution_count": 67,
   "id": "296da1da",
   "metadata": {},
   "outputs": [
    {
     "name": "stdout",
     "output_type": "stream",
     "text": [
      "This is the first function from Sub 1 class\n",
      "This is the second function from the Sub 2 class\n",
      "This is the final method from the super class\n"
     ]
    }
   ],
   "source": [
    "obj.first()\n",
    "obj.second()\n",
    "obj.final()"
   ]
  },
  {
   "cell_type": "markdown",
   "id": "3b7d1529",
   "metadata": {},
   "source": [
    "4. Create a class named ‘Parent’, and inside the class, create a function named ‘fun1’ and pass\n",
    "the following message in the print()- ‘This is the message from the fun1’."
   ]
  },
  {
   "cell_type": "code",
   "execution_count": 74,
   "id": "0c5b03ec",
   "metadata": {},
   "outputs": [],
   "source": [
    "class Parent:\n",
    "    def fun1():\n",
    "        print('This is the message from the fun1')"
   ]
  },
  {
   "cell_type": "markdown",
   "id": "242ba614",
   "metadata": {},
   "source": [
    "a. Now create a class named ‘Child1’ and inside the class, create a method named ‘fun2’\n",
    "and pass the following message in the print()- ‘This is the message from the fun2’."
   ]
  },
  {
   "cell_type": "code",
   "execution_count": 75,
   "id": "cc3868eb",
   "metadata": {},
   "outputs": [],
   "source": [
    "class Child1:\n",
    "    def fun2():\n",
    "        print('This is the message from the fun2')"
   ]
  },
  {
   "cell_type": "markdown",
   "id": "8bfde356",
   "metadata": {},
   "source": [
    "b. After that, create another class named ‘Child2’ and inside the class, create a method\n",
    "named ‘fun3’ and pass the following message in the print()- ‘This is the message from\n",
    "the fun3’."
   ]
  },
  {
   "cell_type": "code",
   "execution_count": 76,
   "id": "bde9e7dc",
   "metadata": {},
   "outputs": [],
   "source": [
    "class Child2(Parent):\n",
    "    def fun3():\n",
    "        print('This is the message from the fun3')"
   ]
  },
  {
   "cell_type": "code",
   "execution_count": 77,
   "id": "93997e93",
   "metadata": {},
   "outputs": [
    {
     "name": "stdout",
     "output_type": "stream",
     "text": [
      "This is the message from the fun1\n"
     ]
    }
   ],
   "source": [
    "objt=Child2\n",
    "objt.fun1()"
   ]
  },
  {
   "cell_type": "markdown",
   "id": "0b861ad4",
   "metadata": {},
   "source": [
    "5. Create a class named ‘Parent’, and inside the class, create a function named ‘fun1’ and pass\n",
    "\n",
    "the following message in the print()- ‘This is the message from the fun1’."
   ]
  },
  {
   "cell_type": "code",
   "execution_count": 78,
   "id": "27385d31",
   "metadata": {},
   "outputs": [],
   "source": [
    "class Parent:\n",
    "    def fun1():\n",
    "        print('This is the message from the fun1')"
   ]
  },
  {
   "cell_type": "code",
   "execution_count": 79,
   "id": "9a2ba1c9",
   "metadata": {},
   "outputs": [],
   "source": [
    "class Child:\n",
    "    def fun2(Parent):\n",
    "        print('This is the message from the fun2')"
   ]
  },
  {
   "cell_type": "code",
   "execution_count": 81,
   "id": "96f0e806",
   "metadata": {},
   "outputs": [],
   "source": [
    "class Hybrid(Parent,Child):\n",
    "    def fun3():\n",
    "        print('This is the message from the fun3')"
   ]
  },
  {
   "cell_type": "code",
   "execution_count": 83,
   "id": "7c9d4870",
   "metadata": {},
   "outputs": [
    {
     "name": "stdout",
     "output_type": "stream",
     "text": [
      "This is the message from the fun1\n",
      "This is the message from the fun2\n",
      "This is the message from the fun3\n"
     ]
    }
   ],
   "source": [
    "objct=Hybrid\n",
    "objct.fun1()\n",
    "objct.fun2()\n",
    "objct.fun3()"
   ]
  },
  {
   "cell_type": "code",
   "execution_count": null,
   "id": "17478df8",
   "metadata": {},
   "outputs": [],
   "source": []
  }
 ],
 "metadata": {
  "kernelspec": {
   "display_name": "Python 3 (ipykernel)",
   "language": "python",
   "name": "python3"
  },
  "language_info": {
   "codemirror_mode": {
    "name": "ipython",
    "version": 3
   },
   "file_extension": ".py",
   "mimetype": "text/x-python",
   "name": "python",
   "nbconvert_exporter": "python",
   "pygments_lexer": "ipython3",
   "version": "3.10.9"
  }
 },
 "nbformat": 4,
 "nbformat_minor": 5
}
