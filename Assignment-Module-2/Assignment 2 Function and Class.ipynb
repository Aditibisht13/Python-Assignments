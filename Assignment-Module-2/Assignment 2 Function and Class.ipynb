{
 "cells": [
  {
   "cell_type": "markdown",
   "id": "e4ba7d03",
   "metadata": {},
   "source": [
    "# Assignment 2 Function and Class"
   ]
  },
  {
   "cell_type": "markdown",
   "id": "e007d579",
   "metadata": {},
   "source": [
    "1. Create a function named ‘factor’ that can only accept 1 argument. The function should\n",
    "return the factorial of that number.\n"
   ]
  },
  {
   "cell_type": "code",
   "execution_count": 3,
   "id": "6a9a2782",
   "metadata": {},
   "outputs": [],
   "source": [
    "def factor(n):\n",
    "    i=1\n",
    "    f=1\n",
    "    while i<=n:\n",
    "        f=f*i\n",
    "        i+=1\n",
    "    print(f)"
   ]
  },
  {
   "cell_type": "code",
   "execution_count": 4,
   "id": "791d82ff",
   "metadata": {},
   "outputs": [
    {
     "name": "stdout",
     "output_type": "stream",
     "text": [
      "120\n"
     ]
    }
   ],
   "source": [
    "d=factor(5)"
   ]
  },
  {
   "cell_type": "markdown",
   "id": "5dc22bea",
   "metadata": {},
   "source": [
    "2. Create a function named ‘check_string’, the function should accept a string data from the\n",
    "user and the function should check if the user input contains the letter ‘s’ in it. If it contains\n",
    "the letter ‘s’ then print- ‘The string is containing the letter ‘s’’, if not then print- ‘The string\n",
    "doesn’t contain the letter ‘s’’."
   ]
  },
  {
   "cell_type": "code",
   "execution_count": 9,
   "id": "c843d7d0",
   "metadata": {},
   "outputs": [],
   "source": [
    "def check_string():\n",
    "    a=input('enter a string:')\n",
    "    x=len(a)\n",
    "    for i in range(0,x):\n",
    "        if a[i]=='s' or a[i]=='S':\n",
    "            print('The string is containing the letter \"s\"')\n",
    "            break\n",
    "    else:\n",
    "            print(\"The string doesn't contain the letter 's' \")"
   ]
  },
  {
   "cell_type": "code",
   "execution_count": 10,
   "id": "05878f97",
   "metadata": {},
   "outputs": [
    {
     "name": "stdout",
     "output_type": "stream",
     "text": [
      "enter a string:samuel\n",
      "The string is containing the letter \"s\"\n"
     ]
    }
   ],
   "source": [
    "check_string()"
   ]
  },
  {
   "cell_type": "code",
   "execution_count": 11,
   "id": "9f0596fe",
   "metadata": {},
   "outputs": [
    {
     "name": "stdout",
     "output_type": "stream",
     "text": [
      "enter a string:tim\n",
      "The string doesn't contain the letter 's' \n"
     ]
    }
   ],
   "source": [
    "check_string()\n"
   ]
  },
  {
   "cell_type": "markdown",
   "id": "2e2ab760",
   "metadata": {},
   "source": [
    "3. Create a class named ‘student’ and inside the class, create a function named ‘fun1’- this\n",
    "method should accept the user defined input and return that value.\n",
    "a. Create another method named- message() and that method should print the user\n",
    "defined input that we have defined in ‘fun1’."
   ]
  },
  {
   "cell_type": "code",
   "execution_count": 18,
   "id": "c317e1ad",
   "metadata": {},
   "outputs": [],
   "source": [
    "class student:\n",
    "    def fun1(self):\n",
    "        n=(input('user please give some input:'))\n",
    "        return n\n",
    "    def message(self):\n",
    "        k=self.fun1()\n",
    "        print(k)"
   ]
  },
  {
   "cell_type": "code",
   "execution_count": 19,
   "id": "be33e81b",
   "metadata": {},
   "outputs": [],
   "source": [
    "ot=student()"
   ]
  },
  {
   "cell_type": "code",
   "execution_count": 20,
   "id": "c698c938",
   "metadata": {},
   "outputs": [
    {
     "name": "stdout",
     "output_type": "stream",
     "text": [
      "user please give some input:hey\n"
     ]
    },
    {
     "data": {
      "text/plain": [
       "'hey'"
      ]
     },
     "execution_count": 20,
     "metadata": {},
     "output_type": "execute_result"
    }
   ],
   "source": [
    "ot.fun1()"
   ]
  },
  {
   "cell_type": "markdown",
   "id": "d8112b22",
   "metadata": {},
   "source": [
    "4. Create a lambda function that should double or multiply the number (that we will be passing\n",
    "in the lambda function) by 2. Store the lambda function in a variable named ‘double_num’.\n"
   ]
  },
  {
   "cell_type": "code",
   "execution_count": 21,
   "id": "61c0929c",
   "metadata": {},
   "outputs": [],
   "source": [
    "double_num= lambda x:x*2"
   ]
  },
  {
   "cell_type": "code",
   "execution_count": 22,
   "id": "e65386e1",
   "metadata": {},
   "outputs": [
    {
     "data": {
      "text/plain": [
       "912"
      ]
     },
     "execution_count": 22,
     "metadata": {},
     "output_type": "execute_result"
    }
   ],
   "source": [
    "double_num(456)"
   ]
  },
  {
   "cell_type": "markdown",
   "id": "9d2cbf41",
   "metadata": {},
   "source": [
    "5. Take the user input string and check whether that string is palindrome or not."
   ]
  },
  {
   "cell_type": "code",
   "execution_count": 24,
   "id": "5cb5acd9",
   "metadata": {},
   "outputs": [
    {
     "name": "stdout",
     "output_type": "stream",
     "text": [
      "enter a string:samas\n",
      "string is palindrome\n"
     ]
    }
   ],
   "source": [
    "s=input('enter a string:')\n",
    "if s==s[::-1]:\n",
    "    print('string is palindrome')\n",
    "else:\n",
    "    print('its not a palindrome')"
   ]
  }
 ],
 "metadata": {
  "kernelspec": {
   "display_name": "Python 3 (ipykernel)",
   "language": "python",
   "name": "python3"
  },
  "language_info": {
   "codemirror_mode": {
    "name": "ipython",
    "version": 3
   },
   "file_extension": ".py",
   "mimetype": "text/x-python",
   "name": "python",
   "nbconvert_exporter": "python",
   "pygments_lexer": "ipython3",
   "version": "3.10.9"
  }
 },
 "nbformat": 4,
 "nbformat_minor": 5
}
