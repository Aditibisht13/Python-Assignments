{
 "cells": [
  {
   "cell_type": "markdown",
   "id": "4114ee70",
   "metadata": {},
   "source": [
    "# Assignment 3 Function"
   ]
  },
  {
   "cell_type": "markdown",
   "id": "e22de593",
   "metadata": {},
   "source": [
    "1. Create a class named ‘Super’ and inside that class define a user-defined function named\n",
    "fun1.\n",
    "a. Inside the ‘fun1’ function, pass the message “This is function 1 in the Super class.”\n",
    "in the print statement.\n"
   ]
  },
  {
   "cell_type": "code",
   "execution_count": 1,
   "id": "06cc5929",
   "metadata": {},
   "outputs": [],
   "source": [
    "class Super:\n",
    "    def fun1(self):\n",
    "        print('This is function 1 in the Super class')"
   ]
  },
  {
   "cell_type": "markdown",
   "id": "7194fbce",
   "metadata": {},
   "source": [
    "2. Create another class named ‘Modified_Super’ and inherit this class from the Super class.\n",
    "a. Inside the Modified_Super class, create a function named ‘fun1’ and pass the\n",
    "following message inside the print statement: ‘This is function 1 in the Modified\n",
    "Super class.’\n",
    "b. Create another user-defined function named ‘fun2’ and pass the message: ‘This is\n",
    "the 2nd function from the Modified Super class’ in the print statement.\n",
    "c. After that, now create an object for the Modified_Super class and call the fun1()."
   ]
  },
  {
   "cell_type": "code",
   "execution_count": 2,
   "id": "bf7cce12",
   "metadata": {},
   "outputs": [],
   "source": [
    "class Super:\n",
    "    def fun1(self):\n",
    "        print('This is function 1 in the Super class')\n",
    "class Modified_Super(Super):\n",
    "    def fun1(self):\n",
    "        Super().fun1()\n",
    "        print(\"This is function 1 in the Modified Super class.\")\n",
    "    def fun2(self):\n",
    "        print(\"This is function 2nd in the Modified Super class.\") \n",
    "    "
   ]
  },
  {
   "cell_type": "code",
   "execution_count": 3,
   "id": "560ddc8e",
   "metadata": {},
   "outputs": [],
   "source": [
    "obj=Modified_Super()"
   ]
  },
  {
   "cell_type": "code",
   "execution_count": 4,
   "id": "18c94ee5",
   "metadata": {},
   "outputs": [
    {
     "name": "stdout",
     "output_type": "stream",
     "text": [
      "This is function 1 in the Super class\n",
      "This is function 1 in the Modified Super class.\n"
     ]
    }
   ],
   "source": [
    "obj.fun1()"
   ]
  },
  {
   "cell_type": "markdown",
   "id": "11d0b2df",
   "metadata": {},
   "source": [
    "3. Create 2 methods named ‘Hello’. In the 1st Hello method, pass only one argument and pass\n",
    "this message: ‘This function only has 1 argument’. And in the 2nd Hello method, pass\n",
    "two arguments and pass this message: ‘This function has 2 arguments’.\n",
    "a. Try to call both the methods and analyze the output of both the methods.\n"
   ]
  },
  {
   "cell_type": "code",
   "execution_count": 5,
   "id": "7b9d720a",
   "metadata": {},
   "outputs": [],
   "source": [
    "def Hello(a):\n",
    "    print('This function only has 1 argument')\n",
    "def Hello(x,y):\n",
    "    print('This function has 2 arguments')"
   ]
  },
  {
   "cell_type": "code",
   "execution_count": 6,
   "id": "884bc3b2",
   "metadata": {},
   "outputs": [
    {
     "name": "stdout",
     "output_type": "stream",
     "text": [
      "This function has 2 arguments\n"
     ]
    }
   ],
   "source": [
    "Hello(3,4)\n"
   ]
  },
  {
   "cell_type": "code",
   "execution_count": 12,
   "id": "2f96f50e",
   "metadata": {},
   "outputs": [
    {
     "ename": "TypeError",
     "evalue": "Hello() missing 1 required positional argument: 'y'",
     "output_type": "error",
     "traceback": [
      "\u001b[1;31m---------------------------------------------------------------------------\u001b[0m",
      "\u001b[1;31mTypeError\u001b[0m                                 Traceback (most recent call last)",
      "Cell \u001b[1;32mIn[12], line 1\u001b[0m\n\u001b[1;32m----> 1\u001b[0m \u001b[43mHello\u001b[49m\u001b[43m(\u001b[49m\u001b[38;5;241;43m9\u001b[39;49m\u001b[43m)\u001b[49m\n",
      "\u001b[1;31mTypeError\u001b[0m: Hello() missing 1 required positional argument: 'y'"
     ]
    }
   ],
   "source": [
    "Hello(9) #here its showing error because for \n",
    "#similar name the last function will be considered \n",
    "#so thats why its asking for 2 inputs"
   ]
  },
  {
   "cell_type": "markdown",
   "id": "c1a5a5f2",
   "metadata": {},
   "source": [
    "4. Create a method named ‘Sum’ that can accept multiple user inputs. Now add those userdefined input values using for loop and the function should return the addition of the numbers.\n"
   ]
  },
  {
   "cell_type": "code",
   "execution_count": 13,
   "id": "a07e1f19",
   "metadata": {},
   "outputs": [],
   "source": [
    "def Sum(*args):\n",
    "    total=0\n",
    "    for i in range(0,len(args)):\n",
    "        total=total+args[i]\n",
    "    return total"
   ]
  },
  {
   "cell_type": "code",
   "execution_count": 14,
   "id": "d1ff1f40",
   "metadata": {},
   "outputs": [
    {
     "data": {
      "text/plain": [
       "1019"
      ]
     },
     "execution_count": 14,
     "metadata": {},
     "output_type": "execute_result"
    }
   ],
   "source": [
    "Sum(2,4,78,90,56,789)"
   ]
  },
  {
   "cell_type": "markdown",
   "id": "1184d681",
   "metadata": {},
   "source": [
    "5. Create a class named ‘Encapsulation’:\n",
    "a. Inside the class, first create a constructor. Inside the constructor, initialize\n",
    "originalValue variable as 10.\n",
    "b. After creating the constructor, define a function named ‘Value’ and this function\n",
    "should return the variable that we have initialized in the constructor.\n",
    "c. Now create 2nd function named setValue, and pass an argument named\n",
    "‘newValue’. The task of this function will be to replace the value of the\n",
    "originalValue variable by the value of the newValue variable."
   ]
  },
  {
   "cell_type": "code",
   "execution_count": 16,
   "id": "cbb2f367",
   "metadata": {},
   "outputs": [],
   "source": [
    "class Encapsulation:\n",
    "    def __init__(self):\n",
    "        self.originalValue=10\n",
    "    def Value(self):\n",
    "        return self.originalValue\n",
    "    def setValue(self,newValue):\n",
    "        self.originalValue=newValue\n",
    "        \n",
    "        "
   ]
  },
  {
   "cell_type": "code",
   "execution_count": 17,
   "id": "2d804754",
   "metadata": {},
   "outputs": [],
   "source": [
    "obj=Encapsulation()"
   ]
  },
  {
   "cell_type": "code",
   "execution_count": 18,
   "id": "6791ebd8",
   "metadata": {},
   "outputs": [
    {
     "data": {
      "text/plain": [
       "10"
      ]
     },
     "execution_count": 18,
     "metadata": {},
     "output_type": "execute_result"
    }
   ],
   "source": [
    "obj.Value()"
   ]
  },
  {
   "cell_type": "code",
   "execution_count": 19,
   "id": "da932c68",
   "metadata": {},
   "outputs": [],
   "source": [
    "obj.setValue(30)"
   ]
  },
  {
   "cell_type": "code",
   "execution_count": 20,
   "id": "79342d3f",
   "metadata": {},
   "outputs": [
    {
     "data": {
      "text/plain": [
       "30"
      ]
     },
     "execution_count": 20,
     "metadata": {},
     "output_type": "execute_result"
    }
   ],
   "source": [
    "obj.Value()"
   ]
  },
  {
   "cell_type": "code",
   "execution_count": null,
   "id": "00c7ffba",
   "metadata": {},
   "outputs": [],
   "source": []
  }
 ],
 "metadata": {
  "kernelspec": {
   "display_name": "Python 3 (ipykernel)",
   "language": "python",
   "name": "python3"
  },
  "language_info": {
   "codemirror_mode": {
    "name": "ipython",
    "version": 3
   },
   "file_extension": ".py",
   "mimetype": "text/x-python",
   "name": "python",
   "nbconvert_exporter": "python",
   "pygments_lexer": "ipython3",
   "version": "3.10.9"
  }
 },
 "nbformat": 4,
 "nbformat_minor": 5
}
