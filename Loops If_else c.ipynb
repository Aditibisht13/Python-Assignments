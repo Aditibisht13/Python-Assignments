{
 "cells": [
  {
   "cell_type": "markdown",
   "id": "6714b7be",
   "metadata": {},
   "source": [
    "# Module 1 File 2"
   ]
  },
  {
   "cell_type": "markdown",
   "id": "a94db0c8",
   "metadata": {},
   "source": [
    "1. For a given list that contains numbers from 1 to 20. Using a for loop, create a new list\n",
    "that contains the square of each element from the given list.\n"
   ]
  },
  {
   "cell_type": "code",
   "execution_count": 1,
   "id": "0d2b9828",
   "metadata": {},
   "outputs": [
    {
     "name": "stdout",
     "output_type": "stream",
     "text": [
      "[1, 2, 3, 4, 5, 6, 7, 8, 9, 10, 11, 12, 13, 14, 15, 16, 17, 18, 19, 20]\n"
     ]
    }
   ],
   "source": [
    "ls=[]\n",
    "for i in range(1,21):\n",
    "    ls.append(i)\n",
    "print(ls)"
   ]
  },
  {
   "cell_type": "code",
   "execution_count": 3,
   "id": "2dfd6603",
   "metadata": {},
   "outputs": [
    {
     "data": {
      "text/plain": [
       "[1,\n",
       " 4,\n",
       " 9,\n",
       " 16,\n",
       " 25,\n",
       " 36,\n",
       " 49,\n",
       " 64,\n",
       " 81,\n",
       " 100,\n",
       " 121,\n",
       " 144,\n",
       " 169,\n",
       " 196,\n",
       " 225,\n",
       " 256,\n",
       " 289,\n",
       " 324,\n",
       " 361,\n",
       " 400]"
      ]
     },
     "execution_count": 3,
     "metadata": {},
     "output_type": "execute_result"
    }
   ],
   "source": [
    "lsq=[i**2 for i in ls]\n",
    "lsq"
   ]
  },
  {
   "cell_type": "markdown",
   "id": "d978cdb3",
   "metadata": {},
   "source": [
    "2. For a given dictionary that contains numbers from 1-10 as keys, and their square as\n",
    "values, display each key-value pair using a for loop.\n"
   ]
  },
  {
   "cell_type": "code",
   "execution_count": 4,
   "id": "baba0927",
   "metadata": {},
   "outputs": [],
   "source": [
    "l=[]\n",
    "for i in range(1,11):\n",
    "    l.append(i)\n",
    "lq=[i**2 for i in l]\n",
    "diction= dict(zip(l,lq))"
   ]
  },
  {
   "cell_type": "code",
   "execution_count": 5,
   "id": "5f5c4135",
   "metadata": {},
   "outputs": [
    {
     "data": {
      "text/plain": [
       "{1: 1, 2: 4, 3: 9, 4: 16, 5: 25, 6: 36, 7: 49, 8: 64, 9: 81, 10: 100}"
      ]
     },
     "execution_count": 5,
     "metadata": {},
     "output_type": "execute_result"
    }
   ],
   "source": [
    "diction\n"
   ]
  },
  {
   "cell_type": "markdown",
   "id": "d4d8d114",
   "metadata": {},
   "source": [
    "3. A tuple contains even numbers from 1-20. Display all the items in a tuple using a for\n",
    "loop."
   ]
  },
  {
   "cell_type": "code",
   "execution_count": 14,
   "id": "fe546dcb",
   "metadata": {},
   "outputs": [
    {
     "name": "stdout",
     "output_type": "stream",
     "text": [
      "(2, 4, 6, 8, 10, 12, 14, 16, 18, 20)\n",
      "2\n",
      "4\n",
      "6\n",
      "8\n",
      "10\n",
      "12\n",
      "14\n",
      "16\n",
      "18\n",
      "20\n"
     ]
    }
   ],
   "source": [
    "l=[]\n",
    "for i in range(1,21):\n",
    "    if i%2==0:\n",
    "        l.append(i)\n",
    "tup=print(tuple(l))\n",
    "for i in l:\n",
    "    print(i)"
   ]
  },
  {
   "cell_type": "markdown",
   "id": "d2a16f73",
   "metadata": {},
   "source": [
    "4. A set contains odd numbers from 1-20. Display the items in a set using a for loop.\n"
   ]
  },
  {
   "cell_type": "code",
   "execution_count": 17,
   "id": "25987b63",
   "metadata": {},
   "outputs": [
    {
     "name": "stdout",
     "output_type": "stream",
     "text": [
      "{1, 3, 5, 7, 9, 11, 13, 15, 17, 19}\n",
      "1\n",
      "3\n",
      "5\n",
      "7\n",
      "9\n",
      "11\n",
      "13\n",
      "15\n",
      "17\n",
      "19\n"
     ]
    }
   ],
   "source": [
    "st={a for a in range(1,21) if a%2!=0}  \n",
    "print(st)\n",
    "for i in st:\n",
    "    print(i)"
   ]
  },
  {
   "cell_type": "markdown",
   "id": "3de59f44",
   "metadata": {},
   "source": [
    "5. For a given sequence of nested lists, display the elements using a for loop.\n",
    "a = [[1,2],[3,4],[5,6],[7,8]]"
   ]
  },
  {
   "cell_type": "code",
   "execution_count": 18,
   "id": "3c8eddc3",
   "metadata": {},
   "outputs": [
    {
     "name": "stdout",
     "output_type": "stream",
     "text": [
      "[[1, 2], [3, 4], [5, 6], [7, 8]]\n"
     ]
    }
   ],
   "source": [
    "a = [[1,2],[3,4],[5,6],[7,8]]\n",
    "print(a)"
   ]
  },
  {
   "cell_type": "code",
   "execution_count": 19,
   "id": "67f8652b",
   "metadata": {},
   "outputs": [
    {
     "name": "stdout",
     "output_type": "stream",
     "text": [
      "[1, 2]\n",
      "[3, 4]\n",
      "[5, 6]\n",
      "[7, 8]\n"
     ]
    }
   ],
   "source": [
    "for i in a:\n",
    "    print(i)"
   ]
  },
  {
   "cell_type": "code",
   "execution_count": 21,
   "id": "27a3cc38",
   "metadata": {},
   "outputs": [
    {
     "name": "stdout",
     "output_type": "stream",
     "text": [
      "1 2\n",
      "3 4\n",
      "5 6\n",
      "7 8\n"
     ]
    }
   ],
   "source": [
    "for i in a:\n",
    "    print(i[0],i[1])"
   ]
  },
  {
   "cell_type": "code",
   "execution_count": 22,
   "id": "c3e2a9eb",
   "metadata": {},
   "outputs": [
    {
     "name": "stdout",
     "output_type": "stream",
     "text": [
      "1\n",
      "2\n",
      "3\n",
      "4\n",
      "5\n",
      "6\n",
      "7\n",
      "8\n"
     ]
    }
   ],
   "source": [
    "for j in a:\n",
    "    for i in range(0,2):\n",
    "        print(j[i])"
   ]
  },
  {
   "cell_type": "code",
   "execution_count": 29,
   "id": "a2053afc",
   "metadata": {},
   "outputs": [
    {
     "data": {
      "text/plain": [
       "5"
      ]
     },
     "execution_count": 29,
     "metadata": {},
     "output_type": "execute_result"
    }
   ],
   "source": [
    "j=[5,6]\n",
    "j[0]"
   ]
  },
  {
   "cell_type": "markdown",
   "id": "58983721",
   "metadata": {},
   "source": [
    "6.For a given sequence of nested dictionaries, display all the values in the dictionary.\n",
    "a = {1: {'one':1}, 2: {'two':2}, 3: {'three':3}}"
   ]
  },
  {
   "cell_type": "code",
   "execution_count": 30,
   "id": "e9e9e64b",
   "metadata": {},
   "outputs": [],
   "source": [
    "a = {1: {'one':1}, 2: {'two':2}, 3: {'three':3}}"
   ]
  },
  {
   "cell_type": "code",
   "execution_count": 31,
   "id": "fcb39f29",
   "metadata": {},
   "outputs": [
    {
     "data": {
      "text/plain": [
       "{1: {'one': 1}, 2: {'two': 2}, 3: {'three': 3}}"
      ]
     },
     "execution_count": 31,
     "metadata": {},
     "output_type": "execute_result"
    }
   ],
   "source": [
    "a"
   ]
  },
  {
   "cell_type": "code",
   "execution_count": 32,
   "id": "f0914ea5",
   "metadata": {},
   "outputs": [
    {
     "name": "stdout",
     "output_type": "stream",
     "text": [
      "{'one': 1}\n",
      "{'two': 2}\n",
      "{'three': 3}\n"
     ]
    }
   ],
   "source": [
    "for i in a.values():\n",
    "    print(i)"
   ]
  },
  {
   "cell_type": "code",
   "execution_count": 33,
   "id": "8552cc86",
   "metadata": {},
   "outputs": [
    {
     "data": {
      "text/plain": [
       "dict_items([('one', 1)])"
      ]
     },
     "execution_count": 33,
     "metadata": {},
     "output_type": "execute_result"
    }
   ],
   "source": [
    "b={'one':1}\n",
    "b.items()"
   ]
  },
  {
   "cell_type": "code",
   "execution_count": 35,
   "id": "83c62f61",
   "metadata": {},
   "outputs": [
    {
     "name": "stdout",
     "output_type": "stream",
     "text": [
      "1\n",
      "2\n",
      "3\n"
     ]
    }
   ],
   "source": [
    "for k,b in a.items():\n",
    "    for k1,b1 in b.items():\n",
    "        print(b1)   "
   ]
  },
  {
   "cell_type": "markdown",
   "id": "f386407c",
   "metadata": {},
   "source": [
    "7. For a given list of natural numbers from 1-100, using the while loop, print only the\n",
    "numbers that are divisible by 2."
   ]
  },
  {
   "cell_type": "code",
   "execution_count": 37,
   "id": "45acbf1a",
   "metadata": {},
   "outputs": [
    {
     "name": "stdout",
     "output_type": "stream",
     "text": [
      "[1, 2, 3, 4, 5, 6, 7, 8, 9, 10, 11, 12, 13, 14, 15, 16, 17, 18, 19, 20, 21, 22, 23, 24, 25, 26, 27, 28, 29, 30, 31, 32, 33, 34, 35, 36, 37, 38, 39, 40, 41, 42, 43, 44, 45, 46, 47, 48, 49, 50, 51, 52, 53, 54, 55, 56, 57, 58, 59, 60, 61, 62, 63, 64, 65, 66, 67, 68, 69, 70, 71, 72, 73, 74, 75, 76, 77, 78, 79, 80, 81, 82, 83, 84, 85, 86, 87, 88, 89, 90, 91, 92, 93, 94, 95, 96, 97, 98, 99, 100]\n"
     ]
    }
   ],
   "source": [
    "num=[n for n in range(1,101)]\n",
    "print(num)"
   ]
  },
  {
   "cell_type": "code",
   "execution_count": 38,
   "id": "3e14bdf6",
   "metadata": {},
   "outputs": [
    {
     "name": "stdout",
     "output_type": "stream",
     "text": [
      "2\n",
      "4\n",
      "6\n",
      "8\n",
      "10\n",
      "12\n",
      "14\n",
      "16\n",
      "18\n",
      "20\n",
      "22\n",
      "24\n",
      "26\n",
      "28\n",
      "30\n",
      "32\n",
      "34\n",
      "36\n",
      "38\n",
      "40\n",
      "42\n",
      "44\n",
      "46\n",
      "48\n",
      "50\n",
      "52\n",
      "54\n",
      "56\n",
      "58\n",
      "60\n",
      "62\n",
      "64\n",
      "66\n",
      "68\n",
      "70\n",
      "72\n",
      "74\n",
      "76\n",
      "78\n",
      "80\n",
      "82\n",
      "84\n",
      "86\n",
      "88\n",
      "90\n",
      "92\n",
      "94\n",
      "96\n",
      "98\n",
      "100\n"
     ]
    }
   ],
   "source": [
    "i=1\n",
    "while(i<=len(num)):\n",
    "    if i%2==0:\n",
    "        print(i)\n",
    "    i=i+1"
   ]
  },
  {
   "cell_type": "markdown",
   "id": "3e7626b9",
   "metadata": {},
   "source": [
    "8. Print the first 5 multiples of 3 using a while loop"
   ]
  },
  {
   "cell_type": "code",
   "execution_count": 73,
   "id": "f1603869",
   "metadata": {},
   "outputs": [
    {
     "name": "stdout",
     "output_type": "stream",
     "text": [
      "3\n",
      "6\n",
      "9\n",
      "12\n",
      "15\n"
     ]
    }
   ],
   "source": [
    "i=1\n",
    "while(i<=5):\n",
    "    print(i*3)\n",
    "    i=i+1"
   ]
  },
  {
   "cell_type": "markdown",
   "id": "061dda73",
   "metadata": {},
   "source": [
    "9.For a given dictionary that contains the first 10 natural numbers as keys, and their cubes\n",
    "as values, display the key value pairs using a while loop.\n"
   ]
  },
  {
   "cell_type": "code",
   "execution_count": null,
   "id": "db3e9609",
   "metadata": {},
   "outputs": [],
   "source": [
    "d1={y:y*y*y for y in range(1,11)}\n",
    "print(d1)\n",
    "while i<=10:\n",
    "        print(key,value)\n",
    "        i=i+1\n",
    "    "
   ]
  },
  {
   "cell_type": "markdown",
   "id": "7edb9606",
   "metadata": {},
   "source": [
    "10. Write a program using a while loop demonstrating the usage of break, continue and pass\n",
    "statements along with if else statements.\n"
   ]
  },
  {
   "cell_type": "code",
   "execution_count": 89,
   "id": "798dcf33",
   "metadata": {},
   "outputs": [
    {
     "name": "stdout",
     "output_type": "stream",
     "text": [
      "Hey 1\n",
      "Hey 2\n",
      "Hey 3\n",
      "Hey 5\n",
      "Hey 6\n",
      "Hey 7\n"
     ]
    }
   ],
   "source": [
    "i=1\n",
    "while i<=10:\n",
    "    if i==4: \n",
    "        pass   \n",
    "    elif i==8:\n",
    "        break\n",
    "    else:    \n",
    "        print(\"Hey\",i)\n",
    "    i=i+1"
   ]
  },
  {
   "cell_type": "markdown",
   "id": "7b8c7f02",
   "metadata": {},
   "source": [
    "11. Write a program using a for loop demonstrating the usage of break, continue and pass\n",
    "statements along with if else statements."
   ]
  },
  {
   "cell_type": "code",
   "execution_count": 98,
   "id": "80720a55",
   "metadata": {},
   "outputs": [
    {
     "name": "stdout",
     "output_type": "stream",
     "text": [
      "Number is  0\n",
      "Number is  1\n",
      "Number is  2\n",
      "Number is  4\n",
      "Number is  5\n",
      "Number is  6\n",
      "Number is  7\n",
      "Number is  8\n"
     ]
    }
   ],
   "source": [
    "num = 0\n",
    "\n",
    "for num in range(10):\n",
    "    if num == 3:\n",
    "        continue  \n",
    "    if num == 9:\n",
    "        break \n",
    "    if num == 8:\n",
    "        pass \n",
    "\n",
    "    print('Number is ' ,num)\n",
    "\n"
   ]
  },
  {
   "cell_type": "markdown",
   "id": "debd5156",
   "metadata": {},
   "source": [
    "12. Create a nested for loop to print a pyramid pattern program in python."
   ]
  },
  {
   "cell_type": "code",
   "execution_count": 115,
   "id": "85838d7b",
   "metadata": {},
   "outputs": [
    {
     "name": "stdout",
     "output_type": "stream",
     "text": [
      "\n",
      "# \n",
      "# # \n",
      "# # # \n",
      "# # # # \n",
      "# # # # # "
     ]
    }
   ],
   "source": [
    "for i in range(1,6):\n",
    "        print()\n",
    "        for j in range(i):\n",
    "            print(\"#\", end= ' ')     \n",
    "\n",
    "\n",
    "\n"
   ]
  },
  {
   "cell_type": "code",
   "execution_count": null,
   "id": "d65bc67b",
   "metadata": {},
   "outputs": [],
   "source": []
  }
 ],
 "metadata": {
  "kernelspec": {
   "display_name": "Python 3 (ipykernel)",
   "language": "python",
   "name": "python3"
  },
  "language_info": {
   "codemirror_mode": {
    "name": "ipython",
    "version": 3
   },
   "file_extension": ".py",
   "mimetype": "text/x-python",
   "name": "python",
   "nbconvert_exporter": "python",
   "pygments_lexer": "ipython3",
   "version": "3.10.9"
  }
 },
 "nbformat": 4,
 "nbformat_minor": 5
}
