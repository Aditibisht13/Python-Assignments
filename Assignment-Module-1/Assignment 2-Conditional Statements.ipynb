{
 "cells": [
  {
   "cell_type": "markdown",
   "id": "41d6275f",
   "metadata": {},
   "source": [
    "# #Conditional Statements Assignment - assignment 2"
   ]
  },
  {
   "cell_type": "markdown",
   "id": "9ced3d5e",
   "metadata": {},
   "source": [
    "1. Take three user inputs and print the greatest number from those inputs using if-else\n",
    "condition. Edge cases if any, should also be handled."
   ]
  },
  {
   "cell_type": "code",
   "execution_count": 5,
   "id": "acd8ebe2",
   "metadata": {},
   "outputs": [
    {
     "name": "stdout",
     "output_type": "stream",
     "text": [
      "enter first number: 45\n",
      "enter second number: 34\n",
      "enter third number: 67\n",
      "c is greater than a and b\n"
     ]
    }
   ],
   "source": [
    "a=int(input('enter first number: '))\n",
    "b=int(input('enter second number: '))\n",
    "c=int(input('enter third number: '))\n",
    "if a>b and a>c:\n",
    "    print('a is greater than b and c')\n",
    "elif b>a and b>c:\n",
    "     print('b is greater than a and c')\n",
    "elif c>a and c>b:\n",
    "     print('c is greater than a and b')\n",
    "else:\n",
    "    print('a,b and c are equal')\n",
    "    "
   ]
  },
  {
   "cell_type": "code",
   "execution_count": null,
   "id": "7c8fa244",
   "metadata": {},
   "outputs": [],
   "source": []
  }
 ],
 "metadata": {
  "kernelspec": {
   "display_name": "Python 3 (ipykernel)",
   "language": "python",
   "name": "python3"
  },
  "language_info": {
   "codemirror_mode": {
    "name": "ipython",
    "version": 3
   },
   "file_extension": ".py",
   "mimetype": "text/x-python",
   "name": "python",
   "nbconvert_exporter": "python",
   "pygments_lexer": "ipython3",
   "version": "3.10.9"
  }
 },
 "nbformat": 4,
 "nbformat_minor": 5
}
