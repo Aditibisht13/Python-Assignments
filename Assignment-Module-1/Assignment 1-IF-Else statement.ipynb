{
 "cells": [
  {
   "cell_type": "markdown",
   "id": "d97a45e8",
   "metadata": {},
   "source": [
    "# Assignment 1 If-Else Assignment "
   ]
  },
  {
   "cell_type": "markdown",
   "id": "14a99315",
   "metadata": {},
   "source": [
    "1. Input the values of a and b as 10 and 20 respectively. Now check if a is greater or b is greater\n",
    "using if condition. Think about all the edge cases, and print the statements accordingly.\n"
   ]
  },
  {
   "cell_type": "code",
   "execution_count": 1,
   "id": "9fe06d44",
   "metadata": {},
   "outputs": [
    {
     "name": "stdout",
     "output_type": "stream",
     "text": [
      "input value of a as 10:10\n",
      "input value of b as 20:20\n",
      "b is greater than a!\n"
     ]
    }
   ],
   "source": [
    "a=int(input('input value of a as 10:'))\n",
    "b=int(input('input value of b as 20:'))\n",
    "if a>b:\n",
    "    print (\"a is greater than b!\")\n",
    "elif a<b:\n",
    "    print (\"b is greater than a!\")\n",
    "elif a==b:\n",
    "    print (\"a is equal to b!\")"
   ]
  },
  {
   "cell_type": "code",
   "execution_count": null,
   "id": "7d612a7b",
   "metadata": {},
   "outputs": [],
   "source": []
  }
 ],
 "metadata": {
  "kernelspec": {
   "display_name": "Python 3 (ipykernel)",
   "language": "python",
   "name": "python3"
  },
  "language_info": {
   "codemirror_mode": {
    "name": "ipython",
    "version": 3
   },
   "file_extension": ".py",
   "mimetype": "text/x-python",
   "name": "python",
   "nbconvert_exporter": "python",
   "pygments_lexer": "ipython3",
   "version": "3.10.9"
  }
 },
 "nbformat": 4,
 "nbformat_minor": 5
}
