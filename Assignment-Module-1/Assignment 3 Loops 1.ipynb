{
 "cells": [
  {
   "cell_type": "markdown",
   "id": "5b6bb40f",
   "metadata": {},
   "source": [
    "# Assignment loops 3"
   ]
  },
  {
   "cell_type": "markdown",
   "id": "2ecf7118",
   "metadata": {},
   "source": [
    "1. Create an array that is having user defined inputs and with the help of for loop, fetch all the prime\n",
    "numbers and print the numbers."
   ]
  },
  {
   "cell_type": "code",
   "execution_count": 4,
   "id": "e9f415e9",
   "metadata": {},
   "outputs": [
    {
     "name": "stdout",
     "output_type": "stream",
     "text": [
      "enter no. of elements: 4\n",
      "2\n",
      "3\n",
      "4\n",
      "5\n",
      "prime numbers [2, 3, 5]\n"
     ]
    }
   ],
   "source": [
    "ls=[]\n",
    "n=int(input('enter no. of elements: '))\n",
    "for i in range(0,n):\n",
    "    ls.append(int(input()))\n",
    "b=[]\n",
    "for x in range(0,n):\n",
    "    if ls[x]==1:\n",
    "        break\n",
    "    if(ls[x]%n)!=0:\n",
    "        b.append(ls[x])\n",
    "print('prime numbers',b)"
   ]
  },
  {
   "cell_type": "code",
   "execution_count": null,
   "id": "e9fe2c20",
   "metadata": {},
   "outputs": [],
   "source": [
    " "
   ]
  }
 ],
 "metadata": {
  "kernelspec": {
   "display_name": "Python 3 (ipykernel)",
   "language": "python",
   "name": "python3"
  },
  "language_info": {
   "codemirror_mode": {
    "name": "ipython",
    "version": 3
   },
   "file_extension": ".py",
   "mimetype": "text/x-python",
   "name": "python",
   "nbconvert_exporter": "python",
   "pygments_lexer": "ipython3",
   "version": "3.10.9"
  }
 },
 "nbformat": 4,
 "nbformat_minor": 5
}
