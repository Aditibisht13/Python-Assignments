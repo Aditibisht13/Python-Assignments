{
 "cells": [
  {
   "cell_type": "markdown",
   "id": "fe410c40",
   "metadata": {},
   "source": [
    "\n",
    "# Loops Assignment - 2"
   ]
  },
  {
   "cell_type": "markdown",
   "id": "b07d0af1",
   "metadata": {},
   "source": [
    "Create a list that is having 10,23,4,26,4,75,24,54 values and with the help of while loop, fetch\n",
    "the even numbers and print the numbers."
   ]
  },
  {
   "cell_type": "code",
   "execution_count": 3,
   "id": "4e940761",
   "metadata": {},
   "outputs": [
    {
     "data": {
      "text/plain": [
       "[10, 23, 4, 26, 4, 75, 24, 54]"
      ]
     },
     "execution_count": 3,
     "metadata": {},
     "output_type": "execute_result"
    }
   ],
   "source": [
    "a=[10,23,4,26,4,75,24,54]\n",
    "a"
   ]
  },
  {
   "cell_type": "code",
   "execution_count": 8,
   "id": "cfdbb061",
   "metadata": {},
   "outputs": [
    {
     "name": "stdout",
     "output_type": "stream",
     "text": [
      "its an even number: 10\n",
      "its an even number: 4\n",
      "its an even number: 26\n",
      "its an even number: 4\n",
      "its an even number: 24\n",
      "its an even number: 54\n"
     ]
    }
   ],
   "source": [
    "i=0\n",
    "while i in range(0,8):\n",
    "    if a[i]%2==0:\n",
    "        print('its an even number:',a[i])\n",
    "        i+=1\n",
    "    else:\n",
    "        i+=1"
   ]
  },
  {
   "cell_type": "code",
   "execution_count": null,
   "id": "eef8b31f",
   "metadata": {},
   "outputs": [],
   "source": []
  }
 ],
 "metadata": {
  "kernelspec": {
   "display_name": "Python 3 (ipykernel)",
   "language": "python",
   "name": "python3"
  },
  "language_info": {
   "codemirror_mode": {
    "name": "ipython",
    "version": 3
   },
   "file_extension": ".py",
   "mimetype": "text/x-python",
   "name": "python",
   "nbconvert_exporter": "python",
   "pygments_lexer": "ipython3",
   "version": "3.10.9"
  }
 },
 "nbformat": 4,
 "nbformat_minor": 5
}
