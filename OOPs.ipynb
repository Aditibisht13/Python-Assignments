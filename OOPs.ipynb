{
 "cells": [
  {
   "cell_type": "markdown",
   "id": "e4ba7d03",
   "metadata": {},
   "source": [
    "\n",
    "# Module 2 OOPs"
   ]
  },
  {
   "cell_type": "markdown",
   "id": "e007d579",
   "metadata": {},
   "source": [
    "1. Create a function named ‘factor’ that can only accept 1 argument. The function should\n",
    "return the factorial of that number.\n"
   ]
  },
  {
   "cell_type": "code",
   "execution_count": 3,
   "id": "6a9a2782",
   "metadata": {},
   "outputs": [],
   "source": [
    "def factor(n):\n",
    "    i=1\n",
    "    f=1\n",
    "    while i<=n:\n",
    "        f=f*i\n",
    "        i+=1\n",
    "    print(f)"
   ]
  },
  {
   "cell_type": "code",
   "execution_count": 4,
   "id": "791d82ff",
   "metadata": {},
   "outputs": [
    {
     "name": "stdout",
     "output_type": "stream",
     "text": [
      "120\n"
     ]
    }
   ],
   "source": [
    "d=factor(5)"
   ]
  },
  {
   "cell_type": "markdown",
   "id": "5dc22bea",
   "metadata": {},
   "source": [
    "2. Create a function named ‘check_string’, the function should accept a string data from the\n",
    "user and the function should check if the user input contains the letter ‘s’ in it. If it contains\n",
    "the letter ‘s’ then print- ‘The string is containing the letter ‘s’’, if not then print- ‘The string\n",
    "doesn’t contain the letter ‘s’’."
   ]
  },
  {
   "cell_type": "code",
   "execution_count": 9,
   "id": "c843d7d0",
   "metadata": {},
   "outputs": [],
   "source": [
    "def check_string():\n",
    "    a=input('enter a string:')\n",
    "    x=len(a)\n",
    "    for i in range(0,x):\n",
    "        if a[i]=='s' or a[i]=='S':\n",
    "            print('The string is containing the letter \"s\"')\n",
    "            break\n",
    "    else:\n",
    "            print(\"The string doesn't contain the letter 's' \")"
   ]
  },
  {
   "cell_type": "code",
   "execution_count": 10,
   "id": "05878f97",
   "metadata": {},
   "outputs": [
    {
     "name": "stdout",
     "output_type": "stream",
     "text": [
      "enter a string:samuel\n",
      "The string is containing the letter \"s\"\n"
     ]
    }
   ],
   "source": [
    "check_string()"
   ]
  },
  {
   "cell_type": "code",
   "execution_count": 11,
   "id": "9f0596fe",
   "metadata": {},
   "outputs": [
    {
     "name": "stdout",
     "output_type": "stream",
     "text": [
      "enter a string:tim\n",
      "The string doesn't contain the letter 's' \n"
     ]
    }
   ],
   "source": [
    "check_string()\n"
   ]
  },
  {
   "cell_type": "markdown",
   "id": "2e2ab760",
   "metadata": {},
   "source": [
    "3. Create a class named ‘student’ and inside the class, create a function named ‘fun1’- this\n",
    "method should accept the user defined input and return that value.\n",
    "a. Create another method named- message() and that method should print the user\n",
    "defined input that we have defined in ‘fun1’."
   ]
  },
  {
   "cell_type": "code",
   "execution_count": 18,
   "id": "c317e1ad",
   "metadata": {},
   "outputs": [],
   "source": [
    "class student:\n",
    "    def fun1(self):\n",
    "        n=(input('user please give some input:'))\n",
    "        return n\n",
    "    def message(self):\n",
    "        k=self.fun1()\n",
    "        print(k)"
   ]
  },
  {
   "cell_type": "code",
   "execution_count": 19,
   "id": "be33e81b",
   "metadata": {},
   "outputs": [],
   "source": [
    "ot=student()"
   ]
  },
  {
   "cell_type": "code",
   "execution_count": 20,
   "id": "c698c938",
   "metadata": {},
   "outputs": [
    {
     "name": "stdout",
     "output_type": "stream",
     "text": [
      "user please give some input:hey\n"
     ]
    },
    {
     "data": {
      "text/plain": [
       "'hey'"
      ]
     },
     "execution_count": 20,
     "metadata": {},
     "output_type": "execute_result"
    }
   ],
   "source": [
    "ot.fun1()"
   ]
  },
  {
   "cell_type": "markdown",
   "id": "d8112b22",
   "metadata": {},
   "source": [
    "4. Create a lambda function that should double or multiply the number (that we will be passing\n",
    "in the lambda function) by 2. Store the lambda function in a variable named ‘double_num’.\n"
   ]
  },
  {
   "cell_type": "code",
   "execution_count": 21,
   "id": "61c0929c",
   "metadata": {},
   "outputs": [],
   "source": [
    "double_num= lambda x:x*2"
   ]
  },
  {
   "cell_type": "code",
   "execution_count": 22,
   "id": "e65386e1",
   "metadata": {},
   "outputs": [
    {
     "data": {
      "text/plain": [
       "912"
      ]
     },
     "execution_count": 22,
     "metadata": {},
     "output_type": "execute_result"
    }
   ],
   "source": [
    "double_num(456)"
   ]
  },
  {
   "cell_type": "markdown",
   "id": "9d2cbf41",
   "metadata": {},
   "source": [
    "5. Take the user input string and check whether that string is palindrome or not."
   ]
  },
  {
   "cell_type": "code",
   "execution_count": 24,
   "id": "5cb5acd9",
   "metadata": {},
   "outputs": [
    {
     "name": "stdout",
     "output_type": "stream",
     "text": [
      "enter a string:samas\n",
      "string is palindrome\n"
     ]
    }
   ],
   "source": [
    "s=input('enter a string:')\n",
    "if s==s[::-1]:\n",
    "    print('string is palindrome')\n",
    "else:\n",
    "    print('its not a palindrome')"
   ]
  },
  {
   "cell_type": "markdown",
   "id": "2be4d8b8",
   "metadata": {},
   "source": [
    "6. Create a class named ‘Super’ and inside that class define a user-defined function named\n",
    "fun1.\n",
    "a. Inside the ‘fun1’ function, pass the message “This is function 1 in the Super class.”\n",
    "in the print statement.\n"
   ]
  },
  {
   "cell_type": "code",
   "execution_count": 25,
   "id": "872bb7ca",
   "metadata": {},
   "outputs": [],
   "source": [
    "class Super:\n",
    "    def fun1(self):\n",
    "        print('This is function 1 in the Super class')"
   ]
  },
  {
   "cell_type": "markdown",
   "id": "dcb8d386",
   "metadata": {},
   "source": [
    "7. Create another class named ‘Modified_Super’ and inherit this class from the Super class.\n",
    "a. Inside the Modified_Super class, create a function named ‘fun1’ and pass the\n",
    "following message inside the print statement: ‘This is function 1 in the Modified\n",
    "Super class.’\n",
    "b. Create another user-defined function named ‘fun2’ and pass the message: ‘This is\n",
    "the 2nd function from the Modified Super class’ in the print statement.\n",
    "c. After that, now create an object for the Modified_Super class and call the fun1()."
   ]
  },
  {
   "cell_type": "code",
   "execution_count": 26,
   "id": "5898f1d9",
   "metadata": {},
   "outputs": [],
   "source": [
    "class Super:\n",
    "    def fun1(self):\n",
    "        print('This is function 1 in the Super class')\n",
    "class Modified_Super(Super):\n",
    "    def fun1(self):\n",
    "        Super().fun1()\n",
    "        print(\"This is function 1 in the Modified Super class.\")\n",
    "    def fun2(self):\n",
    "        print(\"This is function 2nd in the Modified Super class.\") \n",
    "    "
   ]
  },
  {
   "cell_type": "code",
   "execution_count": 27,
   "id": "6f6e040a",
   "metadata": {},
   "outputs": [],
   "source": [
    "obj=Modified_Super()"
   ]
  },
  {
   "cell_type": "code",
   "execution_count": 28,
   "id": "438ad0eb",
   "metadata": {},
   "outputs": [
    {
     "name": "stdout",
     "output_type": "stream",
     "text": [
      "This is function 1 in the Super class\n",
      "This is function 1 in the Modified Super class.\n"
     ]
    }
   ],
   "source": [
    "obj.fun1()"
   ]
  },
  {
   "cell_type": "markdown",
   "id": "278a6428",
   "metadata": {},
   "source": [
    "8. Create 2 methods named ‘Hello’. In the 1st Hello method, pass only one argument and pass\n",
    "this message: ‘This function only has 1 argument’. And in the 2nd Hello method, pass\n",
    "two arguments and pass this message: ‘This function has 2 arguments’.\n",
    "a. Try to call both the methods and analyze the output of both the methods.\n"
   ]
  },
  {
   "cell_type": "code",
   "execution_count": 29,
   "id": "0b60a694",
   "metadata": {},
   "outputs": [],
   "source": [
    "def Hello(a):\n",
    "    print('This function only has 1 argument')\n",
    "def Hello(x,y):\n",
    "    print('This function has 2 arguments')"
   ]
  },
  {
   "cell_type": "code",
   "execution_count": 30,
   "id": "b9949025",
   "metadata": {},
   "outputs": [
    {
     "name": "stdout",
     "output_type": "stream",
     "text": [
      "This function has 2 arguments\n"
     ]
    }
   ],
   "source": [
    "Hello(3,4)\n"
   ]
  },
  {
   "cell_type": "code",
   "execution_count": 31,
   "id": "f503adc9",
   "metadata": {},
   "outputs": [
    {
     "ename": "NameError",
     "evalue": "name 'hello' is not defined",
     "output_type": "error",
     "traceback": [
      "\u001b[1;31m---------------------------------------------------------------------------\u001b[0m",
      "\u001b[1;31mNameError\u001b[0m                                 Traceback (most recent call last)",
      "Cell \u001b[1;32mIn[31], line 1\u001b[0m\n\u001b[1;32m----> 1\u001b[0m \u001b[43mhello\u001b[49m(\u001b[38;5;241m9\u001b[39m)\n",
      "\u001b[1;31mNameError\u001b[0m: name 'hello' is not defined"
     ]
    }
   ],
   "source": [
    "hello(9)"
   ]
  },
  {
   "cell_type": "markdown",
   "id": "0a1fbca8",
   "metadata": {},
   "source": [
    "9. Create a method named ‘Sum’ that can accept multiple user inputs. Now add those userdefined input values using for loop and the function should return the addition of the numbers.\n"
   ]
  },
  {
   "cell_type": "code",
   "execution_count": 32,
   "id": "75f3991e",
   "metadata": {},
   "outputs": [],
   "source": [
    "def Sum(*args):\n",
    "    total=0\n",
    "    for i in range(0,len(args)):\n",
    "        total=total+args[i]\n",
    "    return total"
   ]
  },
  {
   "cell_type": "code",
   "execution_count": 35,
   "id": "18ada8fe",
   "metadata": {},
   "outputs": [
    {
     "data": {
      "text/plain": [
       "1019"
      ]
     },
     "execution_count": 35,
     "metadata": {},
     "output_type": "execute_result"
    }
   ],
   "source": [
    "Sum(2,4,78,90,56,789)"
   ]
  },
  {
   "cell_type": "markdown",
   "id": "b372d1fa",
   "metadata": {},
   "source": [
    "10. Create a class named ‘Encapsulation’:\n",
    "a. Inside the class, first create a constructor. Inside the constructor, initialize\n",
    "originalValue variable as 10.\n",
    "b. After creating the constructor, define a function named ‘Value’ and this function\n",
    "should return the variable that we have initialized in the constructor.\n",
    "c. Now create 2nd function named setValue, and pass an argument named\n",
    "‘newValue’. The task of this function will be to replace the value of the\n",
    "originalValue variable by the value of the newValue variable."
   ]
  },
  {
   "cell_type": "code",
   "execution_count": 110,
   "id": "5ce6e0cf",
   "metadata": {},
   "outputs": [],
   "source": [
    "class Encapsulation:\n",
    "    def __init__(self):\n",
    "        self.originalValue=10\n",
    "    def Value(self):\n",
    "        return self.originalValue\n",
    "    def setValue(self,newValue):\n",
    "        self.originalValue=newValue\n",
    "        \n",
    "        \n",
    "        \n",
    "        "
   ]
  },
  {
   "cell_type": "code",
   "execution_count": 111,
   "id": "3b1ad8ec",
   "metadata": {},
   "outputs": [],
   "source": [
    "obj=Encapsulation()"
   ]
  },
  {
   "cell_type": "code",
   "execution_count": 112,
   "id": "9e272ebf",
   "metadata": {},
   "outputs": [
    {
     "data": {
      "text/plain": [
       "10"
      ]
     },
     "execution_count": 112,
     "metadata": {},
     "output_type": "execute_result"
    }
   ],
   "source": [
    "obj.Value()"
   ]
  },
  {
   "cell_type": "code",
   "execution_count": 113,
   "id": "31c5c924",
   "metadata": {},
   "outputs": [],
   "source": [
    "obj.setValue(30)"
   ]
  },
  {
   "cell_type": "code",
   "execution_count": 114,
   "id": "5a4f9e2c",
   "metadata": {},
   "outputs": [
    {
     "data": {
      "text/plain": [
       "30"
      ]
     },
     "execution_count": 114,
     "metadata": {},
     "output_type": "execute_result"
    }
   ],
   "source": [
    "obj.Value()"
   ]
  },
  {
   "cell_type": "code",
   "execution_count": null,
   "id": "a5b0686f",
   "metadata": {},
   "outputs": [],
   "source": []
  }
 ],
 "metadata": {
  "kernelspec": {
   "display_name": "Python 3 (ipykernel)",
   "language": "python",
   "name": "python3"
  },
  "language_info": {
   "codemirror_mode": {
    "name": "ipython",
    "version": 3
   },
   "file_extension": ".py",
   "mimetype": "text/x-python",
   "name": "python",
   "nbconvert_exporter": "python",
   "pygments_lexer": "ipython3",
   "version": "3.10.9"
  }
 },
 "nbformat": 4,
 "nbformat_minor": 5
}
